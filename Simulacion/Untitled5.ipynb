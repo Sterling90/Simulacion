{
 "cells": [
  {
   "cell_type": "markdown",
   "metadata": {},
   "source": [
    "# Modelo depredador-presa de Lotka-Volterra"
   ]
  },
  {
   "cell_type": "markdown",
   "metadata": {},
   "source": [
    "# Resumen"
   ]
  },
  {
   "cell_type": "markdown",
   "metadata": {},
   "source": [
    "En la siguiente texto vamos a hablar del modelo que rige el comportamiento poblacional de una o varias especies el modelo depredador-presa de Lotka-Volterra. cómo se comporta y qué es capaz de predecir, así como de las principales restricciones del modelo.,enfocandonos en la función logística,sus cualidades y sus limitaciones frente a un entorno natural.\n",
    "Haremos bastante enfasis en cómo se comporta, analizando diferentes gráficas. "
   ]
  },
  {
   "cell_type": "markdown",
   "metadata": {},
   "source": [
    "Se trata de un sistema de dos ecuaciones diferenciales de primer orden, acopladas, autónomas y no lineales:\n",
    "\n",
    "                                                       dx/dt=αx−βxy\n",
    "\n",
    "                                                       dy/dt=−γy+δyx\n",
    "\n",
    "donde x es el número de presas (cebras en nuestro caso) e y es el número de depredadores (leones). Los parámetros son constantes positivas que representan:\n",
    "\n",
    "    α: tasa de crecimiento de las presas.\n",
    "    β: éxito en la caza del depredador.\n",
    "    γ: tasa de decrecimiento de los depredadores.\n",
    "    δ: éxito en la caza y cuánto alimenta cazar una presa al depredador.\n"
   ]
  },
  {
   "cell_type": "markdown",
   "metadata": {},
   "source": [
    "# 1. Ajustar el modelo basado en un crecimiento logistico de las presas"
   ]
  },
  {
   "cell_type": "markdown",
   "metadata": {},
   "source": [
    "Para lograr realizar este anàlisis se se puede explicar el modelo de acuerdo al tiempo de la siguiente manera: \n",
    "\n",
    "Sean x(t) y  y(t)las poblaciones de conejos y depredadores respectivamente:\n",
    "\n",
    "La razon de cambio de las presas y los depredadores son: \n",
    "\n",
    "                                        dx (t)/dt = a1 x(t)- a2 x(t) y(t)\n",
    "                                        dy (t)/dt = -b1y(t)+ b2 x(t) y(t)\n",
    "                                        \n",
    "Donde a1 es la razòn de crecimiento de la presa en ausencia de los depredadores, b1 es la razòn de muerte del depredador en ausencia de la presa.\n",
    "\n",
    "En ausencia de depredadores la ecuación para la presa se reduce a dx/dt =a1x.\n",
    "\n",
    "Se toman los valores de a1 = 0,21; x=20 en un tiempo de 20 años: Estos valores se representan en un función logística:\n",
    "\n",
    "\n",
    "\n",
    "\n"
   ]
  },
  {
   "cell_type": "code",
   "execution_count": 11,
   "metadata": {
    "collapsed": true
   },
   "outputs": [],
   "source": [
    "import numpy as np\n",
    "import matplotlib.pyplot as plt\n",
    "from scipy.integrate import odeint"
   ]
  },
  {
   "cell_type": "code",
   "execution_count": 12,
   "metadata": {
    "collapsed": true
   },
   "outputs": [],
   "source": [
    "%matplotlib inline"
   ]
  },
  {
   "cell_type": "code",
   "execution_count": 13,
   "metadata": {
    "collapsed": true
   },
   "outputs": [],
   "source": [
    "def logistic_curve(t, a=1, m=0, n=1, tau=1):\n",
    "    e = np.exp(-t / tau)\n",
    "    return a * (1 + m * e) / (1 + n * e)"
   ]
  },
  {
   "cell_type": "code",
   "execution_count": 19,
   "metadata": {
    "scrolled": true
   },
   "outputs": [
    {
     "data": {
      "text/plain": [
       "Text(48.25,0.5,'presas')"
      ]
     },
     "execution_count": 19,
     "metadata": {},
     "output_type": "execute_result"
    },
    {
     "data": {
      "image/png": "[encoded data removed]",
      "text/plain": [
       "<matplotlib.figure.Figure at 0x1ec76ef5a90>"
      ]
     },
     "metadata": {},
     "output_type": "display_data"
    }
   ],
   "source": [
    "x_ = np.linspace(0,21)\n",
    "plt.figure('función logística', figsize=(8,5))\n",
    "plt.plot(x_, logistic_curve(x_, 20, m=20, n=100, tau=1))\n",
    "plt.savefig('funcion_logistica.png')\n",
    "\n",
    "\n",
    "plt.xlabel('años')\n",
    "plt.ylabel('presas')"
   ]
  },
  {
   "cell_type": "markdown",
   "metadata": {},
   "source": [
    "De acuerdo a la gráfica la cantiddad de presas se incrementa y se interpreta que en elgun punto se llega a una estabilidad por factores externos (Clima,otras especies)"
   ]
  },
  {
   "cell_type": "markdown",
   "metadata": {},
   "source": [
    "# 2. Simular 2 casos con diveras condiciones iniciales. Gráficas poblacion Vs tiempo."
   ]
  },
  {
   "cell_type": "markdown",
   "metadata": {},
   "source": [
    "Caso No 1: Condiciones Iniciales x0= 21 y0=21"
   ]
  },
  {
   "cell_type": "markdown",
   "metadata": {},
   "source": [
    "Definimos la función que representará el sistema de ecuaciones en forma canónica para pasárselo a odeint:"
   ]
  },
  {
   "cell_type": "code",
   "execution_count": 45,
   "metadata": {
    "collapsed": true
   },
   "outputs": [],
   "source": [
    "def df_dt(x, t, a, b, c, d):\n",
    "    \n",
    "    dx = a * x[0] - b * x[0] * x[1]\n",
    "    dy = - c * x[1] + d * x[0] * x[1]\n",
    "    \n",
    "    return np.array([dx, dy])"
   ]
  },
  {
   "cell_type": "markdown",
   "metadata": {},
   "source": [
    "Definimos los parámetros de nuestro problema, las condiciones iniciales y el tiempo final de la integración así como el número de pasos."
   ]
  },
  {
   "cell_type": "code",
   "execution_count": 23,
   "metadata": {
    "collapsed": true
   },
   "outputs": [],
   "source": [
    "# Parámetros\n",
    "a = 0.1\n",
    "b = 0.02\n",
    "c = 0.3\n",
    "d = 0.01\n",
    "\n",
    "# Condiciones iniciales\n",
    "x0 = 21\n",
    "y0 = 21\n",
    "conds_iniciales = np.array([x0, y0])\n",
    "\n",
    "# Condiciones para integración\n",
    "tf = 200\n",
    "N = 800\n",
    "t = np.linspace(0, tf, N)"
   ]
  },
  {
   "cell_type": "markdown",
   "metadata": {},
   "source": [
    "\n",
    "\n",
    "Resolvemos la ecuación:\n"
   ]
  },
  {
   "cell_type": "code",
   "execution_count": 25,
   "metadata": {
    "collapsed": true
   },
   "outputs": [],
   "source": [
    "solucion = odeint(df_dt, conds_iniciales, t, args=(a, b, c, d))"
   ]
  },
  {
   "cell_type": "markdown",
   "metadata": {},
   "source": [
    "y representamos los resultados en función del tiempo:"
   ]
  },
  {
   "cell_type": "code",
   "execution_count": 27,
   "metadata": {},
   "outputs": [
    {
     "data": {
      "image/png": "[encoded data removed]",
      "text/plain": [
       "<matplotlib.figure.Figure at 0x1ec76d43668>"
      ]
     },
     "metadata": {},
     "output_type": "display_data"
    }
   ],
   "source": [
    "\n",
    "plt.figure(\"Evolución temporal\", figsize=(8,5))\n",
    "plt.title(\"Evolución temporal\")\n",
    "plt.plot(t, solucion[:, 0], label='presa')\n",
    "plt.plot(t, solucion[:, 1], label='depredador')\n",
    "plt.xlabel('tiempo')\n",
    "plt.ylabel('población')\n",
    "plt.legend()\n",
    "plt.savefig('evolucion_temporal.png')\n",
    "\n"
   ]
  },
  {
   "cell_type": "markdown",
   "metadata": {},
   "source": [
    "En este caso se puede evidenciar que la evolución la lidera las presas con el trasncurso del tiempo.\n"
   ]
  },
  {
   "cell_type": "markdown",
   "metadata": {},
   "source": [
    "Caso No 2: Condiciones Iniciales x0= 21 y0=90\n"
   ]
  },
  {
   "cell_type": "code",
   "execution_count": 46,
   "metadata": {
    "collapsed": true
   },
   "outputs": [],
   "source": [
    "import numpy as np\n",
    "import matplotlib.pyplot as plt\n",
    "from scipy.integrate import odeint"
   ]
  },
  {
   "cell_type": "code",
   "execution_count": 47,
   "metadata": {
    "collapsed": true
   },
   "outputs": [],
   "source": [
    "%matplotlib inline"
   ]
  },
  {
   "cell_type": "code",
   "execution_count": 38,
   "metadata": {
    "collapsed": true
   },
   "outputs": [],
   "source": [
    "def df_dt(x, t, a, b, c, d):\n",
    "    \n",
    "    dx = a * x[0] - b * x[0] * x[1]\n",
    "    dy = - c * x[1] + d * x[0] * x[1]\n",
    "    \n",
    "    return np.array([dx, dy])"
   ]
  },
  {
   "cell_type": "code",
   "execution_count": 54,
   "metadata": {
    "collapsed": true
   },
   "outputs": [],
   "source": [
    "# Parámetros\n",
    "a = 0.1\n",
    "b = 0.02\n",
    "c = 0.3\n",
    "d = 0.01\n",
    "\n",
    "# Condiciones iniciales\n",
    "x0 = 21\n",
    "y0 = 90\n",
    "conds_iniciales = np.array([x0, y0])\n",
    "\n",
    "# Condiciones para integración\n",
    "tf = 200\n",
    "N = 800\n",
    "t = np.linspace(0, tf, N)"
   ]
  },
  {
   "cell_type": "code",
   "execution_count": 55,
   "metadata": {},
   "outputs": [],
   "source": [
    "solucion = odeint(df_dt, conds_iniciales, t, args=(a, b, c, d))"
   ]
  },
  {
   "cell_type": "code",
   "execution_count": 56,
   "metadata": {},
   "outputs": [
    {
     "data": {
      "image/png": "[encoded data removed]",
      "text/plain": [
       "<matplotlib.figure.Figure at 0x1ec782741d0>"
      ]
     },
     "metadata": {},
     "output_type": "display_data"
    }
   ],
   "source": [
    "plt.figure(\"Evolución temporal\", figsize=(8,5))\n",
    "plt.title(\"Evolución temporal\")\n",
    "plt.plot(t, solucion[:, 0], label='presa')\n",
    "plt.plot(t, solucion[:, 1], label='depredador')\n",
    "plt.xlabel('tiempo')\n",
    "plt.ylabel('población')\n",
    "plt.legend()\n",
    "plt.savefig('evolucion_temporal.png')"
   ]
  },
  {
   "cell_type": "markdown",
   "metadata": {},
   "source": [
    "En este segundo caso se puede observar que a pesar que el numero de presas empiece en menor numero, con el paso del tiempo este valor se incrementa"
   ]
  },
  {
   "cell_type": "markdown",
   "metadata": {},
   "source": [
    "# 3. Ajustar su implementación para estimar las soluciones al sistema de ecuaciones a traves del metodo de Runge Kutta."
   ]
  },
  {
   "cell_type": "markdown",
   "metadata": {},
   "source": [
    "A continuacion se muestra el programa usado para la resolución numérica de nuestro problema mediante el método de Runge-Kutta de 4º orden para 1000 intervalos. "
   ]
  },
  {
   "cell_type": "code",
   "execution_count": 140,
   "metadata": {
    "scrolled": true
   },
   "outputs": [
    {
     "ename": "SyntaxError",
     "evalue": "EOL while scanning string literal (<ipython-input-140-e1977826ec40>, line 3)",
     "output_type": "error",
     "traceback": [
      "\u001b[1;36m  File \u001b[1;32m\"<ipython-input-140-e1977826ec40>\"\u001b[1;36m, line \u001b[1;32m3\u001b[0m\n\u001b[1;33m    y0=[3,1]'; #Valores de población iniciales\u001b[0m\n\u001b[1;37m                                              ^\u001b[0m\n\u001b[1;31mSyntaxError\u001b[0m\u001b[1;31m:\u001b[0m EOL while scanning string literal\n"
     ]
    }
   ],
   "source": [
    "#Valores iniciales\n",
    "t0=0; tN=100; #Extremos del intervalo a estudiar\n",
    "y0=[3,1]'; #Valores de población iniciales\n",
    "N=1000; h=(tN-t0)/N;#Nº y  amplitud de subintervalos\n",
    "y=y0;\n",
    "R(1)=y(1);%Valor inicial de R (población de conejos)\n",
    "F(1)=y(2);% Valor inicial de F (población de zorros)\n",
    "a=0.4; b=0.37; c=0.3; d=0.05; %Parámetros\n",
    "%Algoritmo\n",
    "for n=1:N\n",
    "k1=[a*y(1)-c*y(1)*y(2);-b*y(2)+d*y(2)*y(1)];\n",
    "k2=[a*(y(1)+1/2*h*k1(1))-c*(y(1)+1/2*h*k1(1))*(y(2)+1/2*h*k1(2));-b*(y(2)+1/2*h*k1(2))+d*(y(2)+1/2*h*k1(2))*(y(1)+1/2*h*k1(1))];\n",
    "k3=[a*(y(1)+1/2*h*k2(1))-c*(y(1)+1/2*h*k2(1))*(y(2)+1/2*h*k2(2));-b*(y(2)+1/2*h*k2(2))+d*(y(2)+1/2*h*k2(2))*(y(1)+1/2*h*k2(1))];\n",
    "k4=[a*(y(1)+h*k3(1))-c*(y(1)+h*k3(1))*(y(2)+h*k3(2));-b*(y(2)+h*k3(2))+d*(y(2)+h*k3(2))*(y(1)+h*k3(1))];\n",
    "y=y+h/6*(k1+2*k2+2*k3+k4);\n",
    "R(n+1)=y(1);\n",
    "F(n+1)=y(2);\n",
    "end\n",
    "%Dibujo\n",
    "t=t0:h:tN;\n",
    "figure(1)\n",
    "hold on\n",
    "plot(t,R,'g')%Población de conejos en función del tiempo\n",
    "plot(t,F,'r')%Población de zorros en función del tiempo\n",
    "title('Población de conejos(verde) y zorros(rojo) en función del tiempo');\n",
    "ylabel('t(años)');\n",
    "hold off\n",
    "figure(2)\n",
    "plot(R,F,'b')%Población de zorros en función de la de conejos\n",
    "title('Población de zorros en función de la de conejos');\n",
    "xlabel('R(miles de conejos)');\n",
    "ylabel('F(miles de zorros)');\n"
   ]
  },
  {
   "cell_type": "markdown",
   "metadata": {},
   "source": [
    "# CONCLUSIONES"
   ]
  },
  {
   "cell_type": "markdown",
   "metadata": {},
   "source": [
    "La función logística explica un poco mejor cómo se comporta un población en un entorno natural.\n",
    "\n",
    "En el caso de que sea presa o depredador, Lotka y Volterra dieron con un sistema de ecuaciones diferenciales que establece la dinámica de ambas poblaciones a lo largo del tiempo."
   ]
  }
 ],
 "metadata": {
  "kernelspec": {
   "display_name": "Python 3",
   "language": "python",
   "name": "python3"
  },
  "language_info": {
   "codemirror_mode": {
    "name": "ipython",
    "version": 3
   },
   "file_extension": ".py",
   "mimetype": "text/x-python",
   "name": "python",
   "nbconvert_exporter": "python",
   "pygments_lexer": "ipython3",
   "version": "3.6.3"
  },
  "widgets": {
   "application/vnd.jupyter.widget-state+json": {
    "state": {},
    "version_major": 2,
    "version_minor": 0
   }
  }
 },
 "nbformat": 4,
 "nbformat_minor": 2
}
